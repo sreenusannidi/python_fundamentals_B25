{
 "cells": [
  {
   "cell_type": "code",
   "execution_count": 1,
   "metadata": {},
   "outputs": [],
   "source": [
    "heros=['chiru','balakrishna','nagarjuna','venkatesh','pavankalyan','suman','rajasekhar','jagapatibabu']"
   ]
  },
  {
   "cell_type": "code",
   "execution_count": 9,
   "metadata": {},
   "outputs": [
    {
     "name": "stdout",
     "output_type": "stream",
     "text": [
      "keep up the good acting chiru\n",
      "keep up the good acting balakrishna\n",
      "keep up the good acting nagarjuna\n",
      "keep up the good acting venkatesh\n",
      "keep up the good acting pavankalyan\n",
      "keep up the good acting suman\n",
      "keep up the good acting rajasekhar\n",
      "keep up the good acting jagapatibabu\n"
     ]
    }
   ],
   "source": [
    "for hero in heros:\n",
    "    print(f\"keep up the good acting {hero}\")"
   ]
  },
  {
   "cell_type": "code",
   "execution_count": 10,
   "metadata": {},
   "outputs": [
    {
     "name": "stdout",
     "output_type": "stream",
     "text": [
      "keep up the good acting chiru\n",
      "expecting more in your next movie chiru\n",
      "keep up the good acting balakrishna\n",
      "expecting more in your next movie balakrishna\n",
      "keep up the good acting nagarjuna\n",
      "expecting more in your next movie nagarjuna\n",
      "keep up the good acting venkatesh\n",
      "expecting more in your next movie venkatesh\n",
      "keep up the good acting pavankalyan\n",
      "expecting more in your next movie pavankalyan\n",
      "keep up the good acting suman\n",
      "expecting more in your next movie suman\n",
      "keep up the good acting rajasekhar\n",
      "expecting more in your next movie rajasekhar\n",
      "keep up the good acting jagapatibabu\n",
      "expecting more in your next movie jagapatibabu\n"
     ]
    }
   ],
   "source": [
    "    for hero in heros:\n",
    "        print(f\"keep up the good acting {hero}\")\n",
    "        print(f\"expecting more in your next movie {hero}\")"
   ]
  },
  {
   "cell_type": "code",
   "execution_count": 11,
   "metadata": {},
   "outputs": [
    {
     "name": "stdout",
     "output_type": "stream",
     "text": [
      "keep up the good acting chiru\n",
      "expecting more in your next movie chiru\n",
      "\n",
      "keep up the good acting balakrishna\n",
      "expecting more in your next movie balakrishna\n",
      "\n",
      "keep up the good acting nagarjuna\n",
      "expecting more in your next movie nagarjuna\n",
      "\n",
      "keep up the good acting venkatesh\n",
      "expecting more in your next movie venkatesh\n",
      "\n",
      "keep up the good acting pavankalyan\n",
      "expecting more in your next movie pavankalyan\n",
      "\n",
      "keep up the good acting suman\n",
      "expecting more in your next movie suman\n",
      "\n",
      "keep up the good acting rajasekhar\n",
      "expecting more in your next movie rajasekhar\n",
      "\n",
      "keep up the good acting jagapatibabu\n",
      "expecting more in your next movie jagapatibabu\n",
      "\n"
     ]
    }
   ],
   "source": [
    "for hero in heros:\n",
    "        print(f\"keep up the good acting {hero}\")\n",
    "        print(f\"expecting more in your next movie {hero}\\n\")"
   ]
  },
  {
   "cell_type": "code",
   "execution_count": 13,
   "metadata": {},
   "outputs": [
    {
     "name": "stdout",
     "output_type": "stream",
     "text": [
      "keep up the good acting chiru\n",
      "expecting more in your next movie chiru\n",
      "\n",
      "keep up the good acting balakrishna\n",
      "expecting more in your next movie balakrishna\n",
      "\n",
      "keep up the good acting nagarjuna\n",
      "expecting more in your next movie nagarjuna\n",
      "\n",
      "keep up the good acting venkatesh\n",
      "expecting more in your next movie venkatesh\n",
      "\n",
      "keep up the good acting pavankalyan\n",
      "expecting more in your next movie pavankalyan\n",
      "\n",
      "keep up the good acting suman\n",
      "expecting more in your next movie suman\n",
      "\n",
      "keep up the good acting rajasekhar\n",
      "expecting more in your next movie rajasekhar\n",
      "\n",
      "keep up the good acting jagapatibabu\n",
      "expecting more in your next movie jagapatibabu\n",
      "\n",
      "Thats it!!\n"
     ]
    }
   ],
   "source": [
    "for hero in heros:\n",
    "        print(f\"keep up the good acting {hero}\")\n",
    "        print(f\"expecting more in your next movie {hero}\\n\")\n",
    "print(\"Thats it!!\")"
   ]
  },
  {
   "cell_type": "code",
   "execution_count": null,
   "metadata": {},
   "outputs": [],
   "source": []
  }
 ],
 "metadata": {
  "kernelspec": {
   "display_name": "Python 3",
   "language": "python",
   "name": "python3"
  },
  "language_info": {
   "codemirror_mode": {
    "name": "ipython",
    "version": 3
   },
   "file_extension": ".py",
   "mimetype": "text/x-python",
   "name": "python",
   "nbconvert_exporter": "python",
   "pygments_lexer": "ipython3",
   "version": "3.7.6"
  }
 },
 "nbformat": 4,
 "nbformat_minor": 4
}
